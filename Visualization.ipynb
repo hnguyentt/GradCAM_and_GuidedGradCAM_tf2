{
 "cells": [
  {
   "cell_type": "code",
   "execution_count": 14,
   "metadata": {
    "hideCode": false,
    "hidePrompt": false
   },
   "outputs": [],
   "source": [
    "from IPython.display import display, Javascript, HTML, clear_output, IFrame\n",
    "from ipywidgets import interact, interactive, fixed, interact_manual, AppLayout, GridspecLayout\n",
    "import ipywidgets as widgets\n",
    "from src.gradcam import GradCAM, overlay_gradCAM\n",
    "from src.guidedBackprop import GuidedBackprop, deprocess_image\n",
    "from src.utils import preprocess, predict, SAMPLE_DIR, array2bytes, DECODE\n",
    "from src.models import load_ResNet50PlusFC, load_VanilaResNet50\n",
    "import os, cv2\n",
    "import matplotlib.pyplot as plt\n",
    "INV_MAP = {\"Cat\": 0, \"Dog\": 1}"
   ]
  },
  {
   "cell_type": "code",
   "execution_count": 15,
   "metadata": {
    "hideCode": false,
    "hidePrompt": false
   },
   "outputs": [
    {
     "data": {
      "application/vnd.jupyter.widget-view+json": {
       "model_id": "e649a321915b4b25a50edf9d9af02dc7",
       "version_major": 2,
       "version_minor": 0
      },
      "text/plain": [
       "GridspecLayout(children=(HTML(value='<font color=\"#1f77b4\" face=\"sans-serif\"><center><h1>DEMO GradCAM and Guid…"
      ]
     },
     "metadata": {},
     "output_type": "display_data"
    }
   ],
   "source": [
    "# Header\n",
    "header = widgets.HTML('<font color=\"#1f77b4\" face=\"sans-serif\"><center><h1>DEMO GradCAM and Guided GradCAM</h1></center></font>',\n",
    "                      layout=widgets.Layout(height='auto'))\n",
    "# Logo\n",
    "logo = widgets.Image(\n",
    "    value=open(\"./assets/illustrations/VietAIlogo.png\", \"rb\").read(),\n",
    "    format='png',\n",
    "    width='auto',\n",
    "    height='auto',\n",
    "    align=\"center-align\"\n",
    ")\n",
    "\n",
    "# Dropdowns\n",
    "def on_change_im(change):\n",
    "    if change['type'] == \"change\" and change[\"name\"] == \"value\":\n",
    "        img = cv2.imread(os.path.join(SAMPLE_DIR,change[\"new\"]))\n",
    "        im_arr = cv2.cvtColor(img, cv2.COLOR_BGR2RGB)\n",
    "        logo = widgets.Image(\n",
    "            value=array2bytes(im_arr),\n",
    "            format='png',\n",
    "            width='auto',\n",
    "            height='auto',\n",
    "            align=\"center-align\"\n",
    "        )\n",
    "        grid[3:13, 9:21] = logo\n",
    "def on_change_model(change):\n",
    "    if change['type'] == \"change\" and change[\"name\"] == \"value\":\n",
    "        chosen_model =  widgets.HTML(\"<p>Model %s loaded.\" % change[\"new\"])\n",
    "        grid[2,:8] = chosen_model\n",
    "        \n",
    "im_ls = [\"--Select\"] + os.listdir(\"./assets/samples\")\n",
    "im_ls.sort()\n",
    "model_ls = [\"--Select\",\"VanilaResNet50\", \"ResNet50PlusFC\"]\n",
    "class_ls = [\"--Select\",\"Cat\", \"Dog\"]\n",
    "models = widgets.Dropdown(options=model_ls, description=\"Model\",layout={'width':'auto'}, disabled=False)\n",
    "imgs = widgets.Dropdown(options=im_ls, description=\"Image\", layout={'width':'auto'}, disabled=False)\n",
    "classes = widgets.Dropdown(options=class_ls, description=\"Class\", layout={'width':'auto'}, disabled=False)\n",
    "imgs.observe(on_change_im)\n",
    "models.observe(on_change_model)\n",
    "# Notes\n",
    "# note = widgets.HTML(\"<p><b>Modes:</b><br>- VanilaResNet50 is retrained ResNet50 model on Dog vs. Cat dataset<br>\"\n",
    "#                     \"- ResNet50PlusFC is the model with 2 FC layers added to ResNet50, retrained on Dog vs. Cat dataset\"\n",
    "#                     \"<br><b>Classes: </b>If not specified, GradCAM & Guided GradCAM will be calculated based on the predicted class</p>\")\n",
    "\n",
    "# button\n",
    "def create_expanded_button(description, button_style):\n",
    "    return widgets.Button(description=description, button_style=button_style,\n",
    "                          layout=widgets.Layout(height='auto', width='auto'))\n",
    "pred_but = create_expanded_button(\"Show GradCAM & Guided GradCAM\",\"info\")\n",
    "\n",
    "# Layouts\n",
    "grid = GridspecLayout(20, 30, height='700px')\n",
    "grid[0,:] = header\n",
    "grid[1,:8] = models\n",
    "grid[1,9:18] = imgs\n",
    "grid[1,19:27] = classes\n",
    "grid[3:13, 9:21] = logo\n",
    "grid[19, 10:20] = pred_but\n",
    "# grid[17:,:] = note\n",
    "display(grid)\n",
    "\n",
    "def showCAMs(img, x, GradCAM, GuidedBP, chosen_class, upsample_size):\n",
    "    cam3 = GradCAM.compute_heatmap(image=x, classIdx=chosen_class, upsample_size=upsample_size)\n",
    "    new_img = overlay_gradCAM(img, cam3)\n",
    "    new_img = cv2.cvtColor(new_img, cv2.COLOR_BGR2RGB)\n",
    "    gb = GuidedBP.guided_backprop(x, upsample_size)\n",
    "    guided_gradcam = deprocess_image(gb * cam3)\n",
    "    guided_gradcam = cv2.cvtColor(guided_gradcam, cv2.COLOR_BGR2RGB)\n",
    "    gc = widgets.Image(\n",
    "            value=array2bytes(new_img),\n",
    "            format='png',\n",
    "            width='auto',\n",
    "            height='auto',\n",
    "            align=\"center-align\"\n",
    "        )\n",
    "    ggc = widgets.Image(\n",
    "            value=array2bytes(guided_gradcam),\n",
    "            format='png',\n",
    "            width='auto',\n",
    "            height='auto',\n",
    "            align=\"center-align\"\n",
    "        )\n",
    "    \n",
    "    grid[3:13, 9:21] = widgets.HTML(\"\")\n",
    "    grid[3:13, :14] = gc\n",
    "    grid[3:13, 16:] = ggc\n",
    "    \n",
    "def check_button(sender):\n",
    "    if models.value == \"VanilaResNet50\":\n",
    "        model = load_VanilaResNet50()\n",
    "        gradCAM = GradCAM(model=model, layerName=\"conv5_block3_out\")\n",
    "        guidedBP = GuidedBackprop(model=model,  layerName=\"conv5_block3_out\")\n",
    "    elif models.value == \"ResNet50PlusFC\":\n",
    "        model = load_ResNet50PlusFC()\n",
    "        gradCAM = GradCAM(model=model, layerName=\"conv5_block3_out\")\n",
    "        guidedBP = GuidedBackprop(model=model,  layerName=\"conv5_block3_out\")\n",
    "    img = cv2.imread(os.path.join(SAMPLE_DIR,imgs.value))\n",
    "    upsample_size = (img.shape[1],img.shape[0])\n",
    "    x = preprocess(imgs.value)\n",
    "    pred, prob = predict(model,x)\n",
    "    if classes.value == \"--Select\":\n",
    "        classIdx = pred\n",
    "    else:\n",
    "        classIdx = INV_MAP[classes.value]\n",
    "    \n",
    "    grid[2,9:18] = widgets.HTML(\"<span>Predicted: {}<span>\".format(DECODE[pred]))\n",
    "        \n",
    "    showCAMs(img, x, gradCAM, guidedBP, classIdx, upsample_size)\n",
    "\n",
    "pred_but.on_click(check_button)"
   ]
  },
  {
   "cell_type": "code",
   "execution_count": null,
   "metadata": {},
   "outputs": [],
   "source": []
  }
 ],
 "metadata": {
  "hide_code_all_hidden": false,
  "kernelspec": {
   "display_name": "GradCAM",
   "language": "python",
   "name": "gradcam"
  },
  "language_info": {
   "codemirror_mode": {
    "name": "ipython",
    "version": 3
   },
   "file_extension": ".py",
   "mimetype": "text/x-python",
   "name": "python",
   "nbconvert_exporter": "python",
   "pygments_lexer": "ipython3",
   "version": "3.6.10"
  },
  "varInspector": {
   "cols": {
    "lenName": 16,
    "lenType": 16,
    "lenVar": 40
   },
   "kernels_config": {
    "python": {
     "delete_cmd_postfix": "",
     "delete_cmd_prefix": "del ",
     "library": "var_list.py",
     "varRefreshCmd": "print(var_dic_list())"
    },
    "r": {
     "delete_cmd_postfix": ") ",
     "delete_cmd_prefix": "rm(",
     "library": "var_list.r",
     "varRefreshCmd": "cat(var_dic_list()) "
    }
   },
   "types_to_exclude": [
    "module",
    "function",
    "builtin_function_or_method",
    "instance",
    "_Feature"
   ],
   "window_display": false
  }
 },
 "nbformat": 4,
 "nbformat_minor": 4
}
