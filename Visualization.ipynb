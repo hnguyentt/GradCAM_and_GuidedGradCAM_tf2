{
 "cells": [
  {
   "cell_type": "markdown",
   "metadata": {
    "hideCode": false,
    "hidePrompt": false
   },
   "source": [
    "<a href=\"https://colab.research.google.com/github/hnguyentt/GradCAM_and_GuidedGradCAM_tf2/blob/master/Visualization.ipynb\" target=\"_parent\"><img src=\"https://colab.research.google.com/assets/colab-badge.svg\" alt=\"Open In Colab\"/></a>"
   ]
  },
  {
   "cell_type": "code",
   "execution_count": 1,
   "metadata": {
    "hideCode": false,
    "hidePrompt": false
   },
   "outputs": [],
   "source": [
    "# Setup for Colab\n",
    "import sys\n",
    "from pathlib import Path\n",
    "IN_COLAB = 'google.colab' in sys.modules\n",
    "\n",
    "srcpath = Path(\"src\")\n",
    "\n",
    "if IN_COLAB and not srcpath.exists(): # if running in Colab --> download src if not exists\n",
    "    !git clone https://github.com/hnguyentt/GradCAM_and_GuidedGradCAM_tf2\n",
    "    !mv GradCAM_and_GuidedGradCAM_tf2/assets .\n",
    "    !mv GradCAM_and_GuidedGradCAM_tf2/src ."
   ]
  },
  {
   "cell_type": "code",
   "execution_count": 3,
   "metadata": {
    "hideCode": false,
    "hidePrompt": false,
    "scrolled": false
   },
   "outputs": [
    {
     "data": {
      "application/vnd.jupyter.widget-view+json": {
       "model_id": "150bc982bd6c4894bfda830f05f5287a",
       "version_major": 2,
       "version_minor": 0
      },
      "text/plain": [
       "GridspecLayout(children=(HTML(value='<font color=\"#1f77b4\" face=\"sans-serif\"><center><h1>DEMO GradCAM and Guid…"
      ]
     },
     "metadata": {},
     "output_type": "display_data"
    },
    {
     "name": "stdout",
     "output_type": "stream",
     "text": [
      "WARNING:tensorflow:7 out of the last 7 calls to <function Model.make_predict_function.<locals>.predict_function at 0x7f98d0152e18> triggered tf.function retracing. Tracing is expensive and the excessive number of tracings could be due to (1) creating @tf.function repeatedly in a loop, (2) passing tensors with different shapes, (3) passing Python objects instead of tensors. For (1), please define your @tf.function outside of the loop. For (2), @tf.function has experimental_relax_shapes=True option that relaxes argument shapes that can avoid unnecessary retracing. For (3), please refer to https://www.tensorflow.org/tutorials/customization/performance#python_or_tensor_args and https://www.tensorflow.org/api_docs/python/tf/function for  more details.\n"
     ]
    }
   ],
   "source": [
    "#@title Click on the Run button to run\n",
    "from IPython.display import display, Javascript, HTML, clear_output, IFrame\n",
    "from ipywidgets import interact, interactive, fixed, interact_manual, AppLayout, GridspecLayout\n",
    "import ipywidgets as widgets\n",
    "from src.gradcam import GradCAM, overlay_gradCAM\n",
    "from src.guidedBackprop import GuidedBackprop, deprocess_image\n",
    "from src.utils import preprocess, predict, SAMPLE_DIR, array2bytes, DECODE, INV_MAP\n",
    "from src.models import load_ResNet50PlusFC, load_VanilaResNet50\n",
    "from tensorflow.keras.preprocessing.image import load_img, img_to_array\n",
    "import os, cv2\n",
    "import matplotlib.pyplot as plt\n",
    "\n",
    "# Header\n",
    "header = widgets.HTML('<font color=\"#1f77b4\" face=\"sans-serif\"><center><h1>DEMO GradCAM and Guided GradCAM</h1></center></font>',\n",
    "                      layout=widgets.Layout(height='auto'))\n",
    "# Logo\n",
    "logo = widgets.Image(\n",
    "    value=open(\"./assets/illustrations/VietAIlogo.png\", \"rb\").read(),\n",
    "    format='png',\n",
    "    width='auto',\n",
    "    height='auto',\n",
    "    align=\"center-align\"\n",
    ")\n",
    "\n",
    "# Dropdowns\n",
    "def on_change_im(change):\n",
    "    if change['type'] == \"change\" and change[\"name\"] == \"value\":\n",
    "        img = cv2.imread(os.path.join(SAMPLE_DIR,change[\"new\"]))\n",
    "        im_arr = cv2.cvtColor(img, cv2.COLOR_BGR2RGB)\n",
    "        logo = widgets.Image(\n",
    "            value=array2bytes(im_arr),\n",
    "            format='png',\n",
    "            width='auto',\n",
    "            height='auto',\n",
    "            align=\"center-align\"\n",
    "        )\n",
    "        grid[5:13, 1:9] = widgets.HTML(\"\")\n",
    "        grid[5:13, 11:19] = logo\n",
    "        grid[5:13, 21:29] = widgets.HTML(\"\")\n",
    "def on_change_model(change):\n",
    "    if change['type'] == \"change\" and change[\"name\"] == \"value\":\n",
    "        chosen_model =  widgets.HTML(\"<center><p>Model %s loaded.<center>\" % change[\"new\"])\n",
    "        grid[2,:8] = chosen_model\n",
    "        \n",
    "im_ls = [\"--Select\"] + [x for x in os.listdir(\"./assets/samples\") if not x.startswith(\".\")]\n",
    "im_ls.sort()\n",
    "model_ls = [\"--Select\",\"VanilaResNet50\", \"ResNet50PlusFC\"]\n",
    "class_ls = [\"--Select\",\"Cat\", \"Dog\"]\n",
    "models = widgets.Dropdown(options=model_ls, description=\"Model\",layout={'width':'auto'}, disabled=False)\n",
    "imgs = widgets.Dropdown(options=im_ls, description=\"Image\", layout={'width':'auto'}, disabled=False)\n",
    "classes = widgets.Dropdown(options=class_ls, description=\"Class\", layout={'width':'auto'}, disabled=False)\n",
    "imgs.observe(on_change_im)\n",
    "models.observe(on_change_model)\n",
    "# Notes\n",
    "# note = widgets.HTML(\"<p><b>Modes:</b><br>- VanilaResNet50 is retrained ResNet50 model on Dog vs. Cat dataset<br>\"\n",
    "#                     \"- ResNet50PlusFC is the model with 2 FC layers added to ResNet50, retrained on Dog vs. Cat dataset\"\n",
    "#                     \"<br><b>Classes: </b>If not specified, GradCAM & Guided GradCAM will be calculated based on the predicted class</p>\")\n",
    "\n",
    "# button\n",
    "def create_expanded_button(description, button_style):\n",
    "    return widgets.Button(description=description, button_style=button_style,\n",
    "                          layout=widgets.Layout(height='auto', width='auto'))\n",
    "pred_but = create_expanded_button(\"Show\",\"info\")\n",
    "\n",
    "# Layouts\n",
    "grid = GridspecLayout(20, 30, height='700px')\n",
    "grid[0,:] = header\n",
    "grid[1,:8] = models\n",
    "grid[1,8:17] = imgs\n",
    "grid[1,17:24] = classes\n",
    "grid[1,25:] = pred_but\n",
    "grid[5:13,11:19] = logo\n",
    "# grid[17:,:] = note\n",
    "display(grid)\n",
    "\n",
    "def showCAMs(img, x, GradCAM, GuidedBP, chosen_class, upsample_size):\n",
    "    cam3 = GradCAM.compute_heatmap(image=x, classIdx=chosen_class, upsample_size=upsample_size)\n",
    "    gradcam = overlay_gradCAM(img, cam3)\n",
    "    gradcam = cv2.cvtColor(gradcam, cv2.COLOR_BGR2RGB)\n",
    "    # Guided backprop\n",
    "    gb = GuidedBP.guided_backprop(x, upsample_size)\n",
    "    gb_im = deprocess_image(gb)\n",
    "    gb_im = cv2.cvtColor(gb_im, cv2.COLOR_BGR2RGB)\n",
    "    # Guided GradCAM\n",
    "    guided_gradcam = deprocess_image(gb*cam3)\n",
    "    guided_gradcam = cv2.cvtColor(guided_gradcam, cv2.COLOR_BGR2RGB)\n",
    "    \n",
    "    # Display\n",
    "    gc = widgets.Image(\n",
    "            value=array2bytes(gradcam),\n",
    "            format='png',\n",
    "            width='auto',\n",
    "            height='auto',\n",
    "            align=\"center-align\"\n",
    "        )\n",
    "    gbim = widgets.Image(\n",
    "            value=array2bytes(gb_im),\n",
    "            format='png',\n",
    "            width='auto',\n",
    "            height='auto',\n",
    "            align=\"center-align\"\n",
    "        )\n",
    "    ggc = widgets.Image(\n",
    "            value=array2bytes(guided_gradcam),\n",
    "            format='png',\n",
    "            width='auto',\n",
    "            height='auto',\n",
    "            align=\"center-align\"\n",
    "        )\n",
    "    grid[4, 1:9] = widgets.HTML('<center><b>GradCAM</b></center>')\n",
    "    grid[4, 11:19] = widgets.HTML('<center><b>Guided Bacpropagation</b></center>')\n",
    "    grid[4, 21:29] = widgets.HTML('<center><b>Guided GradCAM</b></center>')\n",
    "    grid[5:13, 1:9] = gc\n",
    "    grid[5:13, 11:19] = gbim\n",
    "    grid[5:13, 21:29] = ggc\n",
    "    \n",
    "def check_button(sender):\n",
    "#     if models.value == \"VanilaResNet50\"\n",
    "    if models.value == \"VanilaResNet50\":\n",
    "        model = load_VanilaResNet50()\n",
    "        gradCAM = GradCAM(model=model, layerName=\"conv5_block3_out\")\n",
    "        guidedBP = GuidedBackprop(model=model,layerName=\"conv5_block3_out\")\n",
    "    elif models.value == \"ResNet50PlusFC\":\n",
    "        model = load_ResNet50PlusFC()\n",
    "        gradCAM = GradCAM(model=model, layerName=\"conv5_block3_out\")\n",
    "        guidedBP = GuidedBackprop(model=model, layerName=\"conv5_block3_out\")\n",
    "#     img = img_to_array(load_img(os.path.join(SAMPLE_DIR,imgs.value), target_size=(224,224)))\n",
    "    img = cv2.imread(os.path.join(SAMPLE_DIR,imgs.value))\n",
    "    upsample_size = (img.shape[1],img.shape[0])\n",
    "    x = preprocess(imgs.value)\n",
    "    pred, prob = predict(model,x)\n",
    "    if classes.value == \"--Select\":\n",
    "        classIdx = pred\n",
    "    else:\n",
    "        classIdx = INV_MAP[classes.value]\n",
    "    \n",
    "    grid[2,9:18] = widgets.HTML(\"<center><span>Predicted: <b>{}<b><span><center>\".format(DECODE[pred]))\n",
    "        \n",
    "    showCAMs(img, x, gradCAM, guidedBP, classIdx, upsample_size)\n",
    "\n",
    "pred_but.on_click(check_button)"
   ]
  },
  {
   "cell_type": "code",
   "execution_count": null,
   "metadata": {
    "hideCode": false,
    "hidePrompt": false
   },
   "outputs": [],
   "source": []
  }
 ],
 "metadata": {
  "hide_code_all_hidden": false,
  "kernelspec": {
   "display_name": "GradCAM",
   "language": "python",
   "name": "gradcam"
  },
  "language_info": {
   "codemirror_mode": {
    "name": "ipython",
    "version": 3
   },
   "file_extension": ".py",
   "mimetype": "text/x-python",
   "name": "python",
   "nbconvert_exporter": "python",
   "pygments_lexer": "ipython3",
   "version": "3.6.10"
  },
  "varInspector": {
   "cols": {
    "lenName": 16,
    "lenType": 16,
    "lenVar": 40
   },
   "kernels_config": {
    "python": {
     "delete_cmd_postfix": "",
     "delete_cmd_prefix": "del ",
     "library": "var_list.py",
     "varRefreshCmd": "print(var_dic_list())"
    },
    "r": {
     "delete_cmd_postfix": ") ",
     "delete_cmd_prefix": "rm(",
     "library": "var_list.r",
     "varRefreshCmd": "cat(var_dic_list()) "
    }
   },
   "types_to_exclude": [
    "module",
    "function",
    "builtin_function_or_method",
    "instance",
    "_Feature"
   ],
   "window_display": false
  }
 },
 "nbformat": 4,
 "nbformat_minor": 4
}
